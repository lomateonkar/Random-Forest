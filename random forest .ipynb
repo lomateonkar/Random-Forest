{
 "cells": [
  {
   "cell_type": "code",
   "execution_count": 1,
   "id": "e577f1d7",
   "metadata": {},
   "outputs": [],
   "source": [
    "import pandas as pd"
   ]
  },
  {
   "cell_type": "code",
   "execution_count": 2,
   "id": "6fb183f3",
   "metadata": {},
   "outputs": [
    {
     "data": {
      "text/html": [
       "<div>\n",
       "<style scoped>\n",
       "    .dataframe tbody tr th:only-of-type {\n",
       "        vertical-align: middle;\n",
       "    }\n",
       "\n",
       "    .dataframe tbody tr th {\n",
       "        vertical-align: top;\n",
       "    }\n",
       "\n",
       "    .dataframe thead th {\n",
       "        text-align: right;\n",
       "    }\n",
       "</style>\n",
       "<table border=\"1\" class=\"dataframe\">\n",
       "  <thead>\n",
       "    <tr style=\"text-align: right;\">\n",
       "      <th></th>\n",
       "      <th>Age</th>\n",
       "      <th>EstimatedSalary</th>\n",
       "      <th>Purchased</th>\n",
       "    </tr>\n",
       "  </thead>\n",
       "  <tbody>\n",
       "    <tr>\n",
       "      <th>0</th>\n",
       "      <td>19</td>\n",
       "      <td>19000</td>\n",
       "      <td>0</td>\n",
       "    </tr>\n",
       "    <tr>\n",
       "      <th>1</th>\n",
       "      <td>35</td>\n",
       "      <td>20000</td>\n",
       "      <td>0</td>\n",
       "    </tr>\n",
       "    <tr>\n",
       "      <th>2</th>\n",
       "      <td>26</td>\n",
       "      <td>43000</td>\n",
       "      <td>0</td>\n",
       "    </tr>\n",
       "    <tr>\n",
       "      <th>3</th>\n",
       "      <td>27</td>\n",
       "      <td>57000</td>\n",
       "      <td>0</td>\n",
       "    </tr>\n",
       "    <tr>\n",
       "      <th>4</th>\n",
       "      <td>19</td>\n",
       "      <td>76000</td>\n",
       "      <td>0</td>\n",
       "    </tr>\n",
       "  </tbody>\n",
       "</table>\n",
       "</div>"
      ],
      "text/plain": [
       "   Age  EstimatedSalary  Purchased\n",
       "0   19            19000          0\n",
       "1   35            20000          0\n",
       "2   26            43000          0\n",
       "3   27            57000          0\n",
       "4   19            76000          0"
      ]
     },
     "execution_count": 2,
     "metadata": {},
     "output_type": "execute_result"
    }
   ],
   "source": [
    "df  =pd.read_csv('../datasets/Social_Network_Ads.csv')\n",
    "df.head(5)"
   ]
  },
  {
   "cell_type": "code",
   "execution_count": 3,
   "id": "9392036c",
   "metadata": {},
   "outputs": [],
   "source": [
    "x = df[['Age','EstimatedSalary']]\n",
    "y= df['Purchased']"
   ]
  },
  {
   "cell_type": "code",
   "execution_count": 5,
   "id": "558bf2d3",
   "metadata": {},
   "outputs": [],
   "source": [
    "from sklearn.model_selection import train_test_split\n",
    "xtrain, xtest ,ytrain ,ytest = train_test_split(x,y,test_size=0.25,random_state=18)"
   ]
  },
  {
   "cell_type": "code",
   "execution_count": 6,
   "id": "9c2299aa",
   "metadata": {},
   "outputs": [
    {
     "data": {
      "text/plain": [
       "0.89"
      ]
     },
     "execution_count": 6,
     "metadata": {},
     "output_type": "execute_result"
    }
   ],
   "source": [
    "from sklearn.ensemble import RandomForestClassifier\n",
    "model = RandomForestClassifier(n_estimators=10 , random_state=100)\n",
    "model.fit(xtrain,ytrain)\n",
    "model.score(xtest,ytest)"
   ]
  },
  {
   "cell_type": "code",
   "execution_count": 7,
   "id": "d007b3a9",
   "metadata": {},
   "outputs": [
    {
     "data": {
      "text/plain": [
       "0.9866666666666667"
      ]
     },
     "execution_count": 7,
     "metadata": {},
     "output_type": "execute_result"
    }
   ],
   "source": [
    "model.score(xtrain,ytrain)"
   ]
  },
  {
   "cell_type": "markdown",
   "id": "6b4f60f6",
   "metadata": {},
   "source": [
    "# hyperparameter Tuning :1. grid, 2.random"
   ]
  },
  {
   "cell_type": "code",
   "execution_count": 8,
   "id": "09ce0354",
   "metadata": {},
   "outputs": [],
   "source": [
    "from sklearn.model_selection import RandomizedSearchCV"
   ]
  },
  {
   "cell_type": "code",
   "execution_count": 9,
   "id": "98c57c72",
   "metadata": {},
   "outputs": [],
   "source": [
    "params = {'max_depth':[1,2,3,4,5],\n",
    "          'min_samples_leaf':[1,2,3,4],\n",
    "          'min_samples_split':[3,4,5,6]}"
   ]
  },
  {
   "cell_type": "code",
   "execution_count": 10,
   "id": "3284f7f0",
   "metadata": {},
   "outputs": [
    {
     "name": "stdout",
     "output_type": "stream",
     "text": [
      "Fitting 4 folds for each of 10 candidates, totalling 40 fits\n",
      "[CV] END max_depth=4, min_samples_leaf=1, min_samples_split=5; total time=   0.3s\n",
      "[CV] END max_depth=4, min_samples_leaf=1, min_samples_split=5; total time=   0.3s\n",
      "[CV] END max_depth=4, min_samples_leaf=1, min_samples_split=5; total time=   0.3s\n",
      "[CV] END max_depth=4, min_samples_leaf=1, min_samples_split=5; total time=   0.2s\n",
      "[CV] END max_depth=2, min_samples_leaf=3, min_samples_split=3; total time=   0.2s\n",
      "[CV] END max_depth=2, min_samples_leaf=3, min_samples_split=3; total time=   0.2s\n",
      "[CV] END max_depth=2, min_samples_leaf=3, min_samples_split=3; total time=   0.3s\n",
      "[CV] END max_depth=2, min_samples_leaf=3, min_samples_split=3; total time=   0.3s\n",
      "[CV] END max_depth=4, min_samples_leaf=2, min_samples_split=4; total time=   1.0s\n",
      "[CV] END max_depth=4, min_samples_leaf=2, min_samples_split=4; total time=   0.9s\n",
      "[CV] END max_depth=4, min_samples_leaf=2, min_samples_split=4; total time=   0.5s\n",
      "[CV] END max_depth=4, min_samples_leaf=2, min_samples_split=4; total time=   0.2s\n",
      "[CV] END max_depth=4, min_samples_leaf=2, min_samples_split=5; total time=   0.2s\n",
      "[CV] END max_depth=4, min_samples_leaf=2, min_samples_split=5; total time=   0.2s\n",
      "[CV] END max_depth=4, min_samples_leaf=2, min_samples_split=5; total time=   0.3s\n",
      "[CV] END max_depth=4, min_samples_leaf=2, min_samples_split=5; total time=   0.3s\n",
      "[CV] END max_depth=5, min_samples_leaf=4, min_samples_split=4; total time=   0.3s\n",
      "[CV] END max_depth=5, min_samples_leaf=4, min_samples_split=4; total time=   0.3s\n",
      "[CV] END max_depth=5, min_samples_leaf=4, min_samples_split=4; total time=   0.4s\n",
      "[CV] END max_depth=5, min_samples_leaf=4, min_samples_split=4; total time=   0.3s\n",
      "[CV] END max_depth=2, min_samples_leaf=2, min_samples_split=4; total time=   0.5s\n",
      "[CV] END max_depth=2, min_samples_leaf=2, min_samples_split=4; total time=   0.4s\n",
      "[CV] END max_depth=2, min_samples_leaf=2, min_samples_split=4; total time=   0.2s\n",
      "[CV] END max_depth=2, min_samples_leaf=2, min_samples_split=4; total time=   0.2s\n",
      "[CV] END max_depth=1, min_samples_leaf=4, min_samples_split=3; total time=   0.3s\n",
      "[CV] END max_depth=1, min_samples_leaf=4, min_samples_split=3; total time=   0.2s\n",
      "[CV] END max_depth=1, min_samples_leaf=4, min_samples_split=3; total time=   0.3s\n",
      "[CV] END max_depth=1, min_samples_leaf=4, min_samples_split=3; total time=   0.2s\n",
      "[CV] END max_depth=3, min_samples_leaf=2, min_samples_split=5; total time=   0.3s\n",
      "[CV] END max_depth=3, min_samples_leaf=2, min_samples_split=5; total time=   0.3s\n",
      "[CV] END max_depth=3, min_samples_leaf=2, min_samples_split=5; total time=   0.3s\n",
      "[CV] END max_depth=3, min_samples_leaf=2, min_samples_split=5; total time=   0.3s\n",
      "[CV] END max_depth=3, min_samples_leaf=3, min_samples_split=5; total time=   0.3s\n",
      "[CV] END max_depth=3, min_samples_leaf=3, min_samples_split=5; total time=   0.3s\n",
      "[CV] END max_depth=3, min_samples_leaf=3, min_samples_split=5; total time=   0.3s\n",
      "[CV] END max_depth=3, min_samples_leaf=3, min_samples_split=5; total time=   0.3s\n",
      "[CV] END max_depth=3, min_samples_leaf=2, min_samples_split=6; total time=   0.3s\n",
      "[CV] END max_depth=3, min_samples_leaf=2, min_samples_split=6; total time=   0.3s\n",
      "[CV] END max_depth=3, min_samples_leaf=2, min_samples_split=6; total time=   0.3s\n",
      "[CV] END max_depth=3, min_samples_leaf=2, min_samples_split=6; total time=   0.3s\n"
     ]
    },
    {
     "data": {
      "text/plain": [
       "RandomizedSearchCV(cv=4, estimator=RandomForestClassifier(random_state=100),\n",
       "                   param_distributions={'max_depth': [1, 2, 3, 4, 5],\n",
       "                                        'min_samples_leaf': [1, 2, 3, 4],\n",
       "                                        'min_samples_split': [3, 4, 5, 6]},\n",
       "                   verbose=2)"
      ]
     },
     "execution_count": 10,
     "metadata": {},
     "output_type": "execute_result"
    }
   ],
   "source": [
    "random_cv = RandomizedSearchCV(RandomForestClassifier(random_state=100),\n",
    "                              param_distributions=params,cv= 4 ,verbose=2)\n",
    "random_cv.fit(x,y)"
   ]
  },
  {
   "cell_type": "code",
   "execution_count": 12,
   "id": "089583fd",
   "metadata": {},
   "outputs": [
    {
     "data": {
      "text/plain": [
       "RandomForestClassifier(max_depth=2, min_samples_leaf=3, min_samples_split=3,\n",
       "                       random_state=100)"
      ]
     },
     "execution_count": 12,
     "metadata": {},
     "output_type": "execute_result"
    }
   ],
   "source": [
    "random_cv.best_estimator_"
   ]
  },
  {
   "cell_type": "code",
   "execution_count": 13,
   "id": "4936c1e1",
   "metadata": {},
   "outputs": [
    {
     "data": {
      "text/plain": [
       "{'min_samples_split': 3, 'min_samples_leaf': 3, 'max_depth': 2}"
      ]
     },
     "execution_count": 13,
     "metadata": {},
     "output_type": "execute_result"
    }
   ],
   "source": [
    "random_cv.best_params_"
   ]
  },
  {
   "cell_type": "code",
   "execution_count": 14,
   "id": "bdc5f361",
   "metadata": {},
   "outputs": [
    {
     "data": {
      "text/plain": [
       "0.9125"
      ]
     },
     "execution_count": 14,
     "metadata": {},
     "output_type": "execute_result"
    }
   ],
   "source": [
    "random_cv.best_score_"
   ]
  },
  {
   "cell_type": "code",
   "execution_count": 15,
   "id": "647ecb8b",
   "metadata": {},
   "outputs": [
    {
     "data": {
      "text/plain": [
       "1"
      ]
     },
     "execution_count": 15,
     "metadata": {},
     "output_type": "execute_result"
    }
   ],
   "source": [
    "random_cv.best_index_"
   ]
  },
  {
   "cell_type": "code",
   "execution_count": null,
   "id": "bc7212a1",
   "metadata": {},
   "outputs": [],
   "source": []
  }
 ],
 "metadata": {
  "kernelspec": {
   "display_name": "Python 3 (ipykernel)",
   "language": "python",
   "name": "python3"
  },
  "language_info": {
   "codemirror_mode": {
    "name": "ipython",
    "version": 3
   },
   "file_extension": ".py",
   "mimetype": "text/x-python",
   "name": "python",
   "nbconvert_exporter": "python",
   "pygments_lexer": "ipython3",
   "version": "3.9.12"
  }
 },
 "nbformat": 4,
 "nbformat_minor": 5
}
